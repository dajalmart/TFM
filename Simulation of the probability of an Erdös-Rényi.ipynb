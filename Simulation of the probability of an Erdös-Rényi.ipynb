{
 "cells": [
  {
   "cell_type": "code",
   "execution_count": 1,
   "id": "5337c298",
   "metadata": {},
   "outputs": [],
   "source": [
    "import pandas as pd\n",
    "import numpy as np\n",
    "from math import factorial\n",
    "import matplotlib.pyplot as plt\n",
    "import networkx as nx\n",
    "import seaborn as sns"
   ]
  },
  {
   "cell_type": "code",
   "execution_count": 2,
   "id": "2d2831e3",
   "metadata": {},
   "outputs": [
    {
     "name": "stdout",
     "output_type": "stream",
     "text": [
      "[[0. 0. 0. ... 0. 0. 0.]\n",
      " [0. 0. 0. ... 1. 0. 0.]\n",
      " [0. 0. 0. ... 0. 0. 1.]\n",
      " ...\n",
      " [0. 1. 0. ... 0. 1. 0.]\n",
      " [0. 0. 0. ... 1. 0. 0.]\n",
      " [0. 0. 1. ... 0. 0. 0.]]\n"
     ]
    },
    {
     "data": {
      "text/plain": [
       "Text(0, 0.5, 'Probability')"
      ]
     },
     "execution_count": 2,
     "metadata": {},
     "output_type": "execute_result"
    },
    {
     "data": {
      "image/png": "[encoded data removed]",
      "text/plain": [
       "<Figure size 432x288 with 1 Axes>"
      ]
     },
     "metadata": {
      "needs_background": "light"
     },
     "output_type": "display_data"
    }
   ],
   "source": [
    "#número de nodos\n",
    "n=100\n",
    "\n",
    "G = nx.erdos_renyi_graph(n, 0.1)\n",
    "A = nx.to_numpy_array(G)\n",
    "#prob\n",
    "x=[]\n",
    "x1=[]\n",
    "beta=0.01\n",
    "alpha=1-beta\n",
    "gamma=0.001\n",
    "print(A)\n",
    "C=np.dot(A,A)\n",
    "\n",
    "ones = np.ones(n)\n",
    "lont=1000\n",
    "for t in range (lont):\n",
    "    e=alpha*gamma*t\n",
    "    #print(e)\n",
    "    Rv=np.identity(100)+A*e + C* e**2/factorial (2) + np.dot(C,A)* e**3/factorial (3)+np.dot(C,C)* e**4/factorial (4)+np.dot(np.dot(C,C),A)* e**5/factorial (5)\n",
    "    R=np.mean(np.dot(Rv,ones))\n",
    "    xi= 1-alpha*np.exp(-(beta/alpha)*(R-1))\n",
    "    xe=np.exp(-t*gamma)-1\n",
    "    x.append(xi) \n",
    "    x1.append(xe) \n",
    "    \n",
    "\n",
    "#plt.plot(np.arange(lont)+1,x,label='$\\gamma=0.001$')\n",
    "plt.plot(np.arange(lont)+1,x,label='$\\gamma=0.001$')\n",
    "plt.legend(loc='upper left')\n",
    "plt.xlabel('Time')\n",
    "plt.ylabel('Probability')"
   ]
  },
  {
   "cell_type": "code",
   "execution_count": 3,
   "id": "507034c0",
   "metadata": {},
   "outputs": [
    {
     "name": "stdout",
     "output_type": "stream",
     "text": [
      "[[0. 0. 0. ... 0. 0. 0.]\n",
      " [0. 0. 0. ... 0. 0. 0.]\n",
      " [0. 0. 0. ... 0. 0. 0.]\n",
      " ...\n",
      " [0. 0. 0. ... 0. 0. 0.]\n",
      " [0. 0. 0. ... 0. 0. 0.]\n",
      " [0. 0. 0. ... 0. 0. 0.]]\n"
     ]
    },
    {
     "data": {
      "text/plain": [
       "Text(0, 0.5, 'Probability')"
      ]
     },
     "execution_count": 3,
     "metadata": {},
     "output_type": "execute_result"
    },
    {
     "data": {
      "image/png": "[encoded data removed]",
      "text/plain": [
       "<Figure size 432x288 with 1 Axes>"
      ]
     },
     "metadata": {
      "needs_background": "light"
     },
     "output_type": "display_data"
    }
   ],
   "source": [
    "#número de nodos\n",
    "n=100\n",
    "\n",
    "G = nx.erdos_renyi_graph(n, 0.1)\n",
    "A = nx.to_numpy_array(G)\n",
    "#prob\n",
    "x=[]\n",
    "beta=0.01\n",
    "alpha=1-beta\n",
    "gamma=0.002\n",
    "print(A)\n",
    "C=np.dot(A,A)\n",
    "\n",
    "ones = np.ones(n)\n",
    "lont=1000\n",
    "for t in range (lont):\n",
    "    e=alpha*gamma*t\n",
    "    #print(e)\n",
    "    Rv=np.identity(100)+A*e + C* e**2/factorial (2) + np.dot(C,A)* e**3/factorial (3)+np.dot(C,C)* e**4/factorial (4)+np.dot(np.dot(C,C),A)* e**5/factorial (5)\n",
    "    R=np.mean(np.dot(Rv,ones))\n",
    "    xi= 1-alpha*np.exp(-(beta/alpha)*(R-1))\n",
    "    x.append(xi) \n",
    "\n",
    "plt.plot(np.arange(lont)+1,x,label='$\\gamma=0.002$')\n",
    "plt.legend(loc='upper left')\n",
    "plt.xlabel('Time')\n",
    "plt.ylabel('Probability')"
   ]
  },
  {
   "cell_type": "code",
   "execution_count": null,
   "id": "892a23bc",
   "metadata": {},
   "outputs": [],
   "source": []
  },
  {
   "cell_type": "code",
   "execution_count": null,
   "id": "1e30e16b",
   "metadata": {},
   "outputs": [],
   "source": []
  }
 ],
 "metadata": {
  "kernelspec": {
   "display_name": "Python 3",
   "language": "python",
   "name": "python3"
  },
  "language_info": {
   "codemirror_mode": {
    "name": "ipython",
    "version": 3
   },
   "file_extension": ".py",
   "mimetype": "text/x-python",
   "name": "python",
   "nbconvert_exporter": "python",
   "pygments_lexer": "ipython3",
   "version": "3.8.8"
  }
 },
 "nbformat": 4,
 "nbformat_minor": 5
}
